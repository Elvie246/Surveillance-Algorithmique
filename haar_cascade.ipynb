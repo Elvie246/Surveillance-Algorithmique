{
 "cells": [
  {
   "cell_type": "code",
   "execution_count": 1,
   "id": "1344ce43",
   "metadata": {},
   "outputs": [],
   "source": [
    "import cv2\n",
    "import numpy as np\n"
   ]
  },
  {
   "cell_type": "code",
   "execution_count": 5,
   "id": "d1420152",
   "metadata": {},
   "outputs": [
    {
     "name": "stdout",
     "output_type": "stream",
     "text": [
      "Video normale\n"
     ]
    }
   ],
   "source": [
    "# Initialisation des détecteurs (utilise les modèles intégrés à OpenCV)\n",
    "face_cascade = cv2.CascadeClassifier(cv2.data.haarcascades + 'haarcascade_frontalface_default.xml')\n",
    "fullbody_cascade = cv2.CascadeClassifier(cv2.data.haarcascades + 'haarcascade_fullbody.xml')\n",
    "\n",
    "def detect_violence(video_path):\n",
    "    cap = cv2.VideoCapture(video_path)\n",
    "    ret, prev_frame = cap.read()\n",
    "    prev_gray = cv2.cvtColor(prev_frame, cv2.COLOR_BGR2GRAY)\n",
    "    violence_counter = 0\n",
    "    \n",
    "    while True:\n",
    "        ret, frame = cap.read()\n",
    "        if not ret:\n",
    "            break\n",
    "            \n",
    "        gray = cv2.cvtColor(frame, cv2.COLOR_BGR2GRAY)\n",
    "        \n",
    "        # 1. Détection des visages et corps\n",
    "        faces = face_cascade.detectMultiScale(gray, 1.1, 5)\n",
    "        bodies = fullbody_cascade.detectMultiScale(gray, 1.1, 5)\n",
    "        \n",
    "        # 2. Analyse de mouvement\n",
    "        flow = cv2.calcOpticalFlowFarneback(prev_gray, gray, None, 0.5, 3, 15, 3, 5, 1.2, 0)\n",
    "        motion = np.mean(np.abs(flow))\n",
    "        \n",
    "        # 3. Règles de détection simple\n",
    "        if len(faces) >= 2 and motion > 10:  # Deux visages + mouvement important\n",
    "            violence_counter += 1\n",
    "            cv2.putText(frame, \"ALERTE: Comportement suspect!\", (20,50), \n",
    "                        cv2.FONT_HERSHEY_SIMPLEX, 1, (0,0,255), 2)\n",
    "        \n",
    "        cv2.imshow('Detection', frame)\n",
    "        prev_gray = gray.copy()\n",
    "        \n",
    "        if cv2.waitKey(30) == 27:  # ESC pour quitter\n",
    "            break\n",
    "    \n",
    "    cap.release()\n",
    "    cv2.destroyAllWindows()\n",
    "    \n",
    "    if violence_counter > 5:  # Seuil d'alertes\n",
    "        return \"VIDEO VIOLENTE (comportements suspects detectes)\"\n",
    "    else:\n",
    "        return \"Video normale\"\n",
    "\n",
    "# Utilisation\n",
    "result = detect_violence(\"C:/Users/abdou/Downloads/archive (5)/Real Life Violence Dataset/Violence/V_963.mp4\")  # 0 pour webcam, ou \"chemin/vers/video.mp4\"\n",
    "print(result)\n"
   ]
  }
 ],
 "metadata": {
  "kernelspec": {
   "display_name": "Python 3",
   "language": "python",
   "name": "python3"
  },
  "language_info": {
   "codemirror_mode": {
    "name": "ipython",
    "version": 3
   },
   "file_extension": ".py",
   "mimetype": "text/x-python",
   "name": "python",
   "nbconvert_exporter": "python",
   "pygments_lexer": "ipython3",
   "version": "3.13.3"
  }
 },
 "nbformat": 4,
 "nbformat_minor": 5
}
