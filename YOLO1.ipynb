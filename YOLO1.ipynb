{
 "cells": [
  {
   "cell_type": "code",
   "execution_count": 2,
   "id": "f0202f95",
   "metadata": {},
   "outputs": [
    {
     "name": "stdout",
     "output_type": "stream",
     "text": [
      "Creating new Ultralytics Settings v0.0.6 file  \n",
      "View Ultralytics Settings with 'yolo settings' or at 'C:\\Users\\abdou\\AppData\\Roaming\\Ultralytics\\settings.json'\n",
      "Update Settings with 'yolo settings key=value', i.e. 'yolo settings runs_dir=path/to/dir'. For help see https://docs.ultralytics.com/quickstart/#ultralytics-settings.\n"
     ]
    }
   ],
   "source": [
    "from ultralytics import YOLO\n",
    "import cv2\n"
   ]
  },
  {
   "cell_type": "code",
   "execution_count": 5,
   "id": "340887b3",
   "metadata": {},
   "outputs": [
    {
     "name": "stdout",
     "output_type": "stream",
     "text": [
      "\n",
      "0: 384x640 5 persons, 4 cars, 126.1ms\n",
      "Speed: 4.4ms preprocess, 126.1ms inference, 3.1ms postprocess per image at shape (1, 3, 384, 640)\n",
      "Violence détectée\n"
     ]
    }
   ],
   "source": [
    "\n",
    "# Charger YOLOv8 (modèle pré-entraîné COCO + custom si besoin)\n",
    "model = YOLO(\"yolov8n.pt\")  # ou un modèle custom entraîné sur la violence\n",
    "\n",
    "def detect_violence(video_path, violence_threshold=3):\n",
    "    cap = cv2.VideoCapture(video_path)\n",
    "    violence_count = 0\n",
    "    \n",
    "    while cap.isOpened():\n",
    "        ret, frame = cap.read()\n",
    "        if not ret:\n",
    "            break\n",
    "        \n",
    "        # Détection des objets\n",
    "        results = model(frame, classes=[0, 1, 2])  # person, gun, knife (IDs COCO)\n",
    "        \n",
    "        # Règles de violence (ex : deux personnes proches + mouvement rapide)\n",
    "        for box in results[0].boxes:\n",
    "            if box.cls == 0:  # Personne\n",
    "                # Ajouter une logique de vitesse/trajectoire si besoin\n",
    "                pass\n",
    "            elif box.cls in [1, 2]:  # Armes\n",
    "                violence_count += 1\n",
    "        \n",
    "        if violence_count >= violence_threshold:\n",
    "            return \"Violence détectée\"\n",
    "    \n",
    "    return \"Pas de violence\"\n",
    "\n",
    "# Test sur une vidéo\n",
    "result = detect_violence(\"C:/Users/abdou/Downloads/archive (5)/Real Life Violence Dataset/Violence/V_385.mp4\")#C:/Users/abdou/Downloads/archive (5)/Real Life Violence Dataset/Violence/V_385.mp4\n",
    "print(result)"
   ]
  }
 ],
 "metadata": {
  "kernelspec": {
   "display_name": "Python 3",
   "language": "python",
   "name": "python3"
  },
  "language_info": {
   "codemirror_mode": {
    "name": "ipython",
    "version": 3
   },
   "file_extension": ".py",
   "mimetype": "text/x-python",
   "name": "python",
   "nbconvert_exporter": "python",
   "pygments_lexer": "ipython3",
   "version": "3.13.3"
  }
 },
 "nbformat": 4,
 "nbformat_minor": 5
}
